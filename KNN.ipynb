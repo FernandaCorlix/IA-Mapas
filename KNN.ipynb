{
  "nbformat": 4,
  "nbformat_minor": 0,
  "metadata": {
    "colab": {
      "provenance": [],
      "include_colab_link": true
    },
    "kernelspec": {
      "name": "python3",
      "display_name": "Python 3"
    },
    "language_info": {
      "name": "python"
    }
  },
  "cells": [
    {
      "cell_type": "markdown",
      "metadata": {
        "id": "view-in-github",
        "colab_type": "text"
      },
      "source": [
        "<a href=\"https://colab.research.google.com/github/FernandaCorlix/IA-Mapas/blob/main/KNN.ipynb\" target=\"_parent\"><img src=\"https://colab.research.google.com/assets/colab-badge.svg\" alt=\"Open In Colab\"/></a>"
      ]
    },
    {
      "cell_type": "code",
      "execution_count": 18,
      "metadata": {
        "id": "xOshYoXC6TvQ",
        "colab": {
          "base_uri": "https://localhost:8080/"
        },
        "outputId": "06c2273e-9066-445e-d745-304032b90860"
      },
      "outputs": [
        {
          "output_type": "stream",
          "name": "stdout",
          "text": [
            "Looking in indexes: https://pypi.org/simple, https://us-python.pkg.dev/colab-wheels/public/simple/\n",
            "Requirement already satisfied: scikit-learn in /usr/local/lib/python3.7/dist-packages (1.0.2)\n",
            "Requirement already satisfied: joblib>=0.11 in /usr/local/lib/python3.7/dist-packages (from scikit-learn) (1.2.0)\n",
            "Requirement already satisfied: numpy>=1.14.6 in /usr/local/lib/python3.7/dist-packages (from scikit-learn) (1.21.6)\n",
            "Requirement already satisfied: threadpoolctl>=2.0.0 in /usr/local/lib/python3.7/dist-packages (from scikit-learn) (3.1.0)\n",
            "Requirement already satisfied: scipy>=1.1.0 in /usr/local/lib/python3.7/dist-packages (from scikit-learn) (1.7.3)\n"
          ]
        }
      ],
      "source": [
        "!pip install scikit-learn\n",
        "\n",
        "import numpy as np\n",
        "import pandas as pd\n",
        "\n",
        "import matplotlib.pyplot as plt\n",
        "\n",
        "from sklearn import datasets\n",
        "from sklearn.preprocessing import Normalizer\n",
        "from sklearn.datasets import make_blobs\n",
        "from sklearn.neighbors import KNeighborsClassifier\n",
        "from sklearn.model_selection import train_test_split\n",
        "from sklearn.metrics import accuracy_score"
      ]
    },
    {
      "cell_type": "code",
      "source": [
        "\n",
        "#Cargar Dataset de iris\n",
        "iris = datasets.load_iris()\n",
        "iris_df = pd.DataFrame(data= np.c_[iris['data'], iris['target']],\n",
        "                      columns= iris['feature_names'] + ['target'])\n",
        "x= iris_df.iloc[:, :-1]\n",
        "y= iris_df.iloc[:, -1]\n",
        "\n",
        "#Dividir los datos 30% prueba, 30% entrenamiento\n",
        "x_entrenamiento, x_prueba, y_entrenamiento, y_prueba= train_test_split(x, y,\n",
        "                                                   test_size= 0.3,\n",
        "                                                   shuffle= True, \n",
        "                                                   random_state= 0)\n",
        "\n",
        "\n",
        "#Convertir en arreglos los datos de prueba y entrenamiento\n",
        "x_entrenamiento= np.asarray(x_entrenamiento)\n",
        "y_entrenamiento= np.asarray(y_entrenamiento)\n",
        "\n",
        "x_prueba= np.asarray(x_prueba)\n",
        "y_prueba= np.asarray(y_prueba)\n",
        "\n",
        "#Normalizar los datos para una mejor precision\n",
        "scaler= Normalizer().fit(x_entrenamiento) \n",
        "normalizar_x_entrenamiento= scaler.transform(x_entrenamiento)\n",
        "normalizar_x_prueba= scaler.transform(x_prueba)\n",
        "#Establecer el valor dear\n",
        "knn=KNeighborsClassifier(3)\n",
        "#Meterle los datos de entrenamiento al algoritmo\n",
        "knn.fit(normalizar_x_entrenamiento, y_entrenamiento)\n",
        "#Meterle los datos de prediccion al algoritmo\n",
        "y_pred_sklearn= knn.predict(normalizar_x_prueba)\n",
        "#Imprimir los resultados de la prediccion (clases)\n",
        "print(\"Clases que se predijeron: \",y_pred_sklearn)\n",
        "#Imprimir  el porcentaje de aciertos\n",
        "print(f'El porcentaje de aptitud es:  {accuracy_score(y_prueba, y_pred_sklearn)*100}%')\n",
        "\n"
      ],
      "metadata": {
        "id": "_KMZ1TqvHLJs",
        "outputId": "0694ea1a-f89e-4888-9285-29fa8bb9cc14",
        "colab": {
          "base_uri": "https://localhost:8080/"
        }
      },
      "execution_count": 20,
      "outputs": [
        {
          "output_type": "stream",
          "name": "stdout",
          "text": [
            "Clases que se predijeron:  [2. 1. 0. 2. 0. 2. 0. 1. 1. 1. 2. 1. 1. 1. 1. 0. 1. 2. 0. 0. 2. 1. 0. 0.\n",
            " 2. 0. 0. 1. 1. 0. 2. 2. 0. 2. 2. 1. 0. 2. 1. 1. 2. 0. 2. 0. 0.]\n",
            "El porcentaje de aptitud es:  93.33333333333333%\n"
          ]
        }
      ]
    }
  ]
}