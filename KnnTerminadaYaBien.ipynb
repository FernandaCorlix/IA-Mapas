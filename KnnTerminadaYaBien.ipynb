{
  "nbformat": 4,
  "nbformat_minor": 0,
  "metadata": {
    "colab": {
      "provenance": [],
      "include_colab_link": true
    },
    "kernelspec": {
      "name": "python3",
      "display_name": "Python 3"
    },
    "language_info": {
      "name": "python"
    }
  },
  "cells": [
    {
      "cell_type": "markdown",
      "metadata": {
        "id": "view-in-github",
        "colab_type": "text"
      },
      "source": [
        "<a href=\"https://colab.research.google.com/github/FernandaCorlix/IA-Mapas/blob/main/KnnTerminadaYaBien.ipynb\" target=\"_parent\"><img src=\"https://colab.research.google.com/assets/colab-badge.svg\" alt=\"Open In Colab\"/></a>"
      ]
    },
    {
      "cell_type": "code",
      "execution_count": 18,
      "metadata": {
        "id": "xOshYoXC6TvQ",
        "colab": {
          "base_uri": "https://localhost:8080/"
        },
        "outputId": "06c2273e-9066-445e-d745-304032b90860"
      },
      "outputs": [
        {
          "output_type": "stream",
          "name": "stdout",
          "text": [
            "Looking in indexes: https://pypi.org/simple, https://us-python.pkg.dev/colab-wheels/public/simple/\n",
            "Requirement already satisfied: scikit-learn in /usr/local/lib/python3.7/dist-packages (1.0.2)\n",
            "Requirement already satisfied: joblib>=0.11 in /usr/local/lib/python3.7/dist-packages (from scikit-learn) (1.2.0)\n",
            "Requirement already satisfied: numpy>=1.14.6 in /usr/local/lib/python3.7/dist-packages (from scikit-learn) (1.21.6)\n",
            "Requirement already satisfied: threadpoolctl>=2.0.0 in /usr/local/lib/python3.7/dist-packages (from scikit-learn) (3.1.0)\n",
            "Requirement already satisfied: scipy>=1.1.0 in /usr/local/lib/python3.7/dist-packages (from scikit-learn) (1.7.3)\n"
          ]
        }
      ],
      "source": [
        "!pip install scikit-learn\n",
        "\n",
        "import numpy as np\n",
        "import pandas as pd\n",
        "\n",
        "import matplotlib.pyplot as plt\n",
        "\n",
        "from sklearn import datasets\n",
        "from sklearn.preprocessing import Normalizer\n",
        "from sklearn.datasets import make_blobs\n",
        "from sklearn.neighbors import KNeighborsClassifier\n",
        "from sklearn.model_selection import train_test_split\n",
        "from sklearn.metrics import accuracy_score"
      ]
    },
    {
      "cell_type": "code",
      "source": [
        "\n",
        "#Cargar Dataset de iris\n",
        "iris = datasets.load_iris()\n",
        "iris_df = pd.DataFrame(data= np.c_[iris['data'], iris['target']],columns= iris['feature_names'] + ['target'])\n",
        "\n",
        "#Dividir los datos 30% prueba, 30% entrenamiento\n",
        "x_entrenamiento, x_prueba, y_entrenamiento, y_prueba= train_test_split(x, y,test_size= 0.3,shuffle= True, random_state= 0)\n",
        "\n",
        "\n",
        "#Convertir en arreglos los datos de prueba y entrenamiento\n",
        "x_entrenamiento= np.asarray(x_entrenamiento)\n",
        "y_entrenamiento= np.asarray(y_entrenamiento)\n",
        "\n",
        "x_prueba= np.asarray(x_prueba)\n",
        "y_prueba= np.asarray(y_prueba)\n",
        "\n",
        "#Normalizar los datos para una mejor precision\n",
        "scaler= Normalizer().fit(x_entrenamiento) \n",
        "normalizar_x_entrenamiento= scaler.transform(x_entrenamiento)\n",
        "normalizar_x_prueba= scaler.transform(x_prueba)\n",
        "\n",
        "#Establecer el valor dear\n",
        "K = 77\n",
        "knn = KNeighborsClassifier(K)\n",
        "\n",
        "#Meterle los datos de entrenamiento al algoritmo\n",
        "knn.fit(normalizar_x_entrenamiento, y_entrenamiento)\n",
        "#Meterle los datos de prediccion al algoritmo\n",
        "y_pred_sklearn= knn.predict(normalizar_x_prueba)\n",
        "#Imprimir los resultados de la prediccion (clases)\n",
        "print(\"Clases que se predijeron: \",y_pred_sklearn)\n",
        "#Imprimir  el porcentaje de aciertos\n",
        "print(f'El porcentaje de aptitud es:  {accuracy_score(y_prueba, y_pred_sklearn)*100}%')\n",
        "\n"
      ],
      "metadata": {
        "colab": {
          "base_uri": "https://localhost:8080/"
        },
        "id": "_KMZ1TqvHLJs",
        "outputId": "0425595a-61b4-49d8-cd5d-8fd7b2268207"
      },
      "execution_count": 27,
      "outputs": [
        {
          "output_type": "stream",
          "name": "stdout",
          "text": [
            "Clases que se predijeron:  [2. 2. 0. 2. 0. 2. 0. 2. 2. 2. 2. 2. 2. 2. 2. 0. 2. 2. 0. 0. 2. 2. 0. 0.\n",
            " 2. 0. 0. 2. 2. 0. 2. 2. 0. 2. 2. 2. 0. 2. 2. 2. 2. 0. 2. 0. 0.]\n",
            "El porcentaje de aptitud es:  60.0%\n"
          ]
        }
      ]
    }
  ]
}